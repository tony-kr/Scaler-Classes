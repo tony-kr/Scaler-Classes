{
  "nbformat": 4,
  "nbformat_minor": 0,
  "metadata": {
    "colab": {
      "provenance": [],
      "authorship_tag": "ABX9TyPyredyz07fu+Mu6trH32F8",
      "include_colab_link": true
    },
    "kernelspec": {
      "name": "python3",
      "display_name": "Python 3"
    },
    "language_info": {
      "name": "python"
    }
  },
  "cells": [
    {
      "cell_type": "markdown",
      "metadata": {
        "id": "view-in-github",
        "colab_type": "text"
      },
      "source": [
        "<a href=\"https://colab.research.google.com/github/tony-kr/Scaler-Classes/blob/main/Module_1_Python%20Refresher/Comprehension.ipynb\" target=\"_parent\"><img src=\"https://colab.research.google.com/assets/colab-badge.svg\" alt=\"Open In Colab\"/></a>"
      ]
    },
    {
      "cell_type": "code",
      "execution_count": 1,
      "metadata": {
        "id": "RW653oAdshIU"
      },
      "outputs": [],
      "source": [
        "a = [1,2,3,5,6,7,8,9]"
      ]
    },
    {
      "cell_type": "code",
      "source": [
        "b = []\n",
        "for i in a:\n",
        "  b.append(i**3)"
      ],
      "metadata": {
        "id": "vH4MVK09soZK"
      },
      "execution_count": 2,
      "outputs": []
    },
    {
      "cell_type": "code",
      "source": [
        "b"
      ],
      "metadata": {
        "colab": {
          "base_uri": "https://localhost:8080/"
        },
        "id": "TrBM59m7s0e4",
        "outputId": "d02b8523-4667-4545-96e5-da6788a4f348"
      },
      "execution_count": 3,
      "outputs": [
        {
          "output_type": "execute_result",
          "data": {
            "text/plain": [
              "[1, 8, 27, 125, 216, 343, 512, 729]"
            ]
          },
          "metadata": {},
          "execution_count": 3
        }
      ]
    },
    {
      "cell_type": "code",
      "source": [
        "b_comp = [ i**3 for i in a ]"
      ],
      "metadata": {
        "id": "4gcQqdfgs1Y3"
      },
      "execution_count": 5,
      "outputs": []
    },
    {
      "cell_type": "code",
      "source": [
        "b_comp"
      ],
      "metadata": {
        "colab": {
          "base_uri": "https://localhost:8080/"
        },
        "id": "kXgYoac0s-eQ",
        "outputId": "266e205b-bba9-483c-8ff2-d466f5246bd8"
      },
      "execution_count": 6,
      "outputs": [
        {
          "output_type": "execute_result",
          "data": {
            "text/plain": [
              "[1, 8, 27, 125, 216, 343, 512, 729]"
            ]
          },
          "metadata": {},
          "execution_count": 6
        }
      ]
    },
    {
      "cell_type": "code",
      "source": [
        "# if odd --> number\n",
        "# if even --> num**2\n",
        "\n",
        "b = []\n",
        "for i in a:\n",
        "    if i % 2 == 0:\n",
        "        b.append(i**2)\n",
        "    else:\n",
        "        b.append(i)"
      ],
      "metadata": {
        "id": "pF8NYl2ltDgY"
      },
      "execution_count": 7,
      "outputs": []
    },
    {
      "cell_type": "code",
      "source": [
        "b"
      ],
      "metadata": {
        "colab": {
          "base_uri": "https://localhost:8080/"
        },
        "id": "J-nYMPiptckn",
        "outputId": "4a760ee3-d92a-4e93-cb2f-93ea88bf0424"
      },
      "execution_count": 8,
      "outputs": [
        {
          "output_type": "execute_result",
          "data": {
            "text/plain": [
              "[1, 4, 3, 5, 36, 7, 64, 9]"
            ]
          },
          "metadata": {},
          "execution_count": 8
        }
      ]
    },
    {
      "cell_type": "code",
      "source": [
        "random = [ [ i+j for j in range(1,11) ] for i in range(1,11) ]\n",
        "random"
      ],
      "metadata": {
        "colab": {
          "base_uri": "https://localhost:8080/"
        },
        "id": "h1vwCbhstd0X",
        "outputId": "556805c0-8a2f-4cb1-c04c-15595c9a39f1"
      },
      "execution_count": 9,
      "outputs": [
        {
          "output_type": "execute_result",
          "data": {
            "text/plain": [
              "[[2, 3, 4, 5, 6, 7, 8, 9, 10, 11],\n",
              " [3, 4, 5, 6, 7, 8, 9, 10, 11, 12],\n",
              " [4, 5, 6, 7, 8, 9, 10, 11, 12, 13],\n",
              " [5, 6, 7, 8, 9, 10, 11, 12, 13, 14],\n",
              " [6, 7, 8, 9, 10, 11, 12, 13, 14, 15],\n",
              " [7, 8, 9, 10, 11, 12, 13, 14, 15, 16],\n",
              " [8, 9, 10, 11, 12, 13, 14, 15, 16, 17],\n",
              " [9, 10, 11, 12, 13, 14, 15, 16, 17, 18],\n",
              " [10, 11, 12, 13, 14, 15, 16, 17, 18, 19],\n",
              " [11, 12, 13, 14, 15, 16, 17, 18, 19, 20]]"
            ]
          },
          "metadata": {},
          "execution_count": 9
        }
      ]
    },
    {
      "cell_type": "code",
      "source": [
        "rand_order = [ i+str(j) for j in [1 ,2 ,3] for i in [\"a\", \"b\", \"c\"] ]"
      ],
      "metadata": {
        "id": "ps4zuqw3tjVH"
      },
      "execution_count": 10,
      "outputs": []
    },
    {
      "cell_type": "code",
      "source": [
        "rand_order"
      ],
      "metadata": {
        "colab": {
          "base_uri": "https://localhost:8080/"
        },
        "id": "PlT9C2KYtqd3",
        "outputId": "cfce925a-ba0c-4012-b257-2ae64a5b90da"
      },
      "execution_count": 11,
      "outputs": [
        {
          "output_type": "execute_result",
          "data": {
            "text/plain": [
              "['a1', 'b1', 'c1', 'a2', 'b2', 'c2', 'a3', 'b3', 'c3']"
            ]
          },
          "metadata": {},
          "execution_count": 11
        }
      ]
    },
    {
      "cell_type": "code",
      "source": [
        "rand = []\n",
        "for i in [1, 2, 3]:\n",
        "    for j in [\"a\", \"b\", \"c\"]:\n",
        "        rand.append(j + str(i))"
      ],
      "metadata": {
        "id": "4KajkakrtsKX"
      },
      "execution_count": 12,
      "outputs": []
    },
    {
      "cell_type": "code",
      "source": [
        "rand"
      ],
      "metadata": {
        "colab": {
          "base_uri": "https://localhost:8080/"
        },
        "id": "cDBfECMFuoit",
        "outputId": "5a02135a-1a5f-482e-f31e-d8bd9493a30d"
      },
      "execution_count": 13,
      "outputs": [
        {
          "output_type": "execute_result",
          "data": {
            "text/plain": [
              "['a1', 'b1', 'c1', 'a2', 'b2', 'c2', 'a3', 'b3', 'c3']"
            ]
          },
          "metadata": {},
          "execution_count": 13
        }
      ]
    },
    {
      "cell_type": "code",
      "source": [
        "s = \"Kerala is God's own country\""
      ],
      "metadata": {
        "id": "gDN1mZknupa9"
      },
      "execution_count": 16,
      "outputs": []
    },
    {
      "cell_type": "code",
      "source": [
        "s.upper()"
      ],
      "metadata": {
        "colab": {
          "base_uri": "https://localhost:8080/",
          "height": 35
        },
        "id": "rXCHgQBbu3m3",
        "outputId": "88ca1571-2425-48a0-c2d5-9a2eb699dbd1"
      },
      "execution_count": 17,
      "outputs": [
        {
          "output_type": "execute_result",
          "data": {
            "text/plain": [
              "\"KERALA IS GOD'S OWN COUNTRY\""
            ],
            "application/vnd.google.colaboratory.intrinsic+json": {
              "type": "string"
            }
          },
          "metadata": {},
          "execution_count": 17
        }
      ]
    },
    {
      "cell_type": "code",
      "source": [
        "s.title()"
      ],
      "metadata": {
        "colab": {
          "base_uri": "https://localhost:8080/",
          "height": 35
        },
        "id": "9TRDUul3u4-v",
        "outputId": "85e526f4-ef04-4e8c-ec99-668caf5f9204"
      },
      "execution_count": 18,
      "outputs": [
        {
          "output_type": "execute_result",
          "data": {
            "text/plain": [
              "\"Kerala Is God'S Own Country\""
            ],
            "application/vnd.google.colaboratory.intrinsic+json": {
              "type": "string"
            }
          },
          "metadata": {},
          "execution_count": 18
        }
      ]
    },
    {
      "cell_type": "code",
      "source": [
        "s.startswith(\"THIS\")"
      ],
      "metadata": {
        "colab": {
          "base_uri": "https://localhost:8080/"
        },
        "id": "smltd7ZYvUaH",
        "outputId": "f545409f-f637-415f-964a-4aa18ddc8437"
      },
      "execution_count": 19,
      "outputs": [
        {
          "output_type": "execute_result",
          "data": {
            "text/plain": [
              "False"
            ]
          },
          "metadata": {},
          "execution_count": 19
        }
      ]
    },
    {
      "cell_type": "code",
      "source": [
        "s.split()"
      ],
      "metadata": {
        "colab": {
          "base_uri": "https://localhost:8080/"
        },
        "id": "VHWVWm0svYrf",
        "outputId": "b8a803b0-d142-4031-9c2a-ab667cbfc781"
      },
      "execution_count": 20,
      "outputs": [
        {
          "output_type": "execute_result",
          "data": {
            "text/plain": [
              "['Kerala', 'is', \"God's\", 'own', 'country']"
            ]
          },
          "metadata": {},
          "execution_count": 20
        }
      ]
    },
    {
      "cell_type": "code",
      "source": [
        "a = s.split()"
      ],
      "metadata": {
        "id": "pPYVoIO0vkKA"
      },
      "execution_count": 21,
      "outputs": []
    },
    {
      "cell_type": "code",
      "source": [
        "a"
      ],
      "metadata": {
        "colab": {
          "base_uri": "https://localhost:8080/"
        },
        "id": "iMVsSW5-v29b",
        "outputId": "68d8979c-e503-430b-9b57-975cbd0ae396"
      },
      "execution_count": 22,
      "outputs": [
        {
          "output_type": "execute_result",
          "data": {
            "text/plain": [
              "['Kerala', 'is', \"God's\", 'own', 'country']"
            ]
          },
          "metadata": {},
          "execution_count": 22
        }
      ]
    },
    {
      "cell_type": "code",
      "source": [
        "a.join(\"-\")"
      ],
      "metadata": {
        "colab": {
          "base_uri": "https://localhost:8080/",
          "height": 165
        },
        "id": "yw_SMi6Av3pX",
        "outputId": "484d2b5b-2bcc-4f16-f6c8-8bc7cd199d3c"
      },
      "execution_count": 23,
      "outputs": [
        {
          "output_type": "error",
          "ename": "AttributeError",
          "evalue": "ignored",
          "traceback": [
            "\u001b[0;31m---------------------------------------------------------------------------\u001b[0m",
            "\u001b[0;31mAttributeError\u001b[0m                            Traceback (most recent call last)",
            "\u001b[0;32m<ipython-input-23-e14e50446eb8>\u001b[0m in \u001b[0;36m<module>\u001b[0;34m\u001b[0m\n\u001b[0;32m----> 1\u001b[0;31m \u001b[0ma\u001b[0m\u001b[0;34m.\u001b[0m\u001b[0mjoin\u001b[0m\u001b[0;34m(\u001b[0m\u001b[0;34m\"-\"\u001b[0m\u001b[0;34m)\u001b[0m\u001b[0;34m\u001b[0m\u001b[0;34m\u001b[0m\u001b[0m\n\u001b[0m",
            "\u001b[0;31mAttributeError\u001b[0m: 'list' object has no attribute 'join'"
          ]
        }
      ]
    },
    {
      "cell_type": "code",
      "source": [
        "\"-\".join(a)"
      ],
      "metadata": {
        "colab": {
          "base_uri": "https://localhost:8080/",
          "height": 35
        },
        "id": "T_u21l1Cv8WX",
        "outputId": "da7e81b0-cf5f-4845-e748-52ad0261a886"
      },
      "execution_count": 24,
      "outputs": [
        {
          "output_type": "execute_result",
          "data": {
            "text/plain": [
              "\"Kerala-is-God's-own-country\""
            ],
            "application/vnd.google.colaboratory.intrinsic+json": {
              "type": "string"
            }
          },
          "metadata": {},
          "execution_count": 24
        }
      ]
    },
    {
      "cell_type": "code",
      "source": [
        "a = [10,20,333,[4,5],[[[[[5,6,7],[8,9,0]]]]]]"
      ],
      "metadata": {
        "id": "80ClVNHMwVO8"
      },
      "execution_count": 25,
      "outputs": []
    },
    {
      "cell_type": "code",
      "source": [
        "def flatten_my_list(a):\n",
        "    result = []\n",
        "    \n",
        "    while a:\n",
        "        element = a.pop()\n",
        "        \n",
        "        if type(element) == list:\n",
        "            a.extend(element)\n",
        "        else:\n",
        "            result.append(element)\n",
        "    \n",
        "    result.sort()\n",
        "    \n",
        "    return result"
      ],
      "metadata": {
        "id": "c-oV4A35wIz_"
      },
      "execution_count": 27,
      "outputs": []
    },
    {
      "cell_type": "code",
      "source": [
        "flatten_my_list(a)"
      ],
      "metadata": {
        "colab": {
          "base_uri": "https://localhost:8080/"
        },
        "id": "mOsIrZ5SwgPr",
        "outputId": "17b8d5e3-2ec9-403a-c72c-8ba6ecd97f36"
      },
      "execution_count": 28,
      "outputs": [
        {
          "output_type": "execute_result",
          "data": {
            "text/plain": [
              "[0, 4, 5, 5, 6, 7, 8, 9, 10, 20, 333]"
            ]
          },
          "metadata": {},
          "execution_count": 28
        }
      ]
    },
    {
      "cell_type": "code",
      "source": [],
      "metadata": {
        "id": "fTUPy5s5whJf"
      },
      "execution_count": null,
      "outputs": []
    }
  ]
}