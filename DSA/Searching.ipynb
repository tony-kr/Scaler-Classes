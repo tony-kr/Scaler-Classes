{
  "nbformat": 4,
  "nbformat_minor": 0,
  "metadata": {
    "colab": {
      "provenance": [],
      "authorship_tag": "ABX9TyMknkry8tCEP7jju07LHqBO",
      "include_colab_link": true
    },
    "kernelspec": {
      "name": "python3",
      "display_name": "Python 3"
    },
    "language_info": {
      "name": "python"
    }
  },
  "cells": [
    {
      "cell_type": "markdown",
      "metadata": {
        "id": "view-in-github",
        "colab_type": "text"
      },
      "source": [
        "<a href=\"https://colab.research.google.com/github/tony-kr/Scaler-Classes/blob/main/DSA/Searching.ipynb\" target=\"_parent\"><img src=\"https://colab.research.google.com/assets/colab-badge.svg\" alt=\"Open In Colab\"/></a>"
      ]
    },
    {
      "cell_type": "code",
      "execution_count": 1,
      "metadata": {
        "id": "TvvZaTfMxfEr"
      },
      "outputs": [],
      "source": [
        "def linear_search(a, target):\n",
        "    for index, value in enumerate(a):\n",
        "        if value == target:\n",
        "            return index\n",
        "        \n",
        "    return -1"
      ]
    },
    {
      "cell_type": "code",
      "source": [
        "a = [1,2,3,4,5,5,5,5,5,5,5,6,7,8,9,10,11,15,753,13,3254,548,325468,35463164,546841684,548454]"
      ],
      "metadata": {
        "id": "B-ovvY5VxzSV"
      },
      "execution_count": 2,
      "outputs": []
    },
    {
      "cell_type": "code",
      "source": [
        "enumerate_a = list(enumerate(a))"
      ],
      "metadata": {
        "id": "cC1Q8e-wyNCY"
      },
      "execution_count": 3,
      "outputs": []
    },
    {
      "cell_type": "code",
      "source": [
        "enumerate_a"
      ],
      "metadata": {
        "colab": {
          "base_uri": "https://localhost:8080/"
        },
        "id": "ZY0foSMOyWkg",
        "outputId": "e9f48124-64d3-4150-9c45-b63b9e39952b"
      },
      "execution_count": 4,
      "outputs": [
        {
          "output_type": "execute_result",
          "data": {
            "text/plain": [
              "[(0, 1),\n",
              " (1, 2),\n",
              " (2, 3),\n",
              " (3, 4),\n",
              " (4, 5),\n",
              " (5, 5),\n",
              " (6, 5),\n",
              " (7, 5),\n",
              " (8, 5),\n",
              " (9, 5),\n",
              " (10, 5),\n",
              " (11, 6),\n",
              " (12, 7),\n",
              " (13, 8),\n",
              " (14, 9),\n",
              " (15, 10),\n",
              " (16, 11),\n",
              " (17, 15),\n",
              " (18, 753),\n",
              " (19, 13),\n",
              " (20, 3254),\n",
              " (21, 548),\n",
              " (22, 325468),\n",
              " (23, 35463164),\n",
              " (24, 546841684),\n",
              " (25, 548454)]"
            ]
          },
          "metadata": {},
          "execution_count": 4
        }
      ]
    },
    {
      "cell_type": "code",
      "source": [
        "linear_search(a,54654)"
      ],
      "metadata": {
        "colab": {
          "base_uri": "https://localhost:8080/"
        },
        "id": "bOsGB_TTyZnP",
        "outputId": "63db9dba-8068-4fc0-8273-318173b05130"
      },
      "execution_count": 5,
      "outputs": [
        {
          "output_type": "execute_result",
          "data": {
            "text/plain": [
              "-1"
            ]
          },
          "metadata": {},
          "execution_count": 5
        }
      ]
    },
    {
      "cell_type": "code",
      "source": [
        "linear_search(a,4)"
      ],
      "metadata": {
        "colab": {
          "base_uri": "https://localhost:8080/"
        },
        "id": "T3byWT8EygeO",
        "outputId": "53b714cf-8b59-4a78-80b8-784b8d640457"
      },
      "execution_count": 6,
      "outputs": [
        {
          "output_type": "execute_result",
          "data": {
            "text/plain": [
              "3"
            ]
          },
          "metadata": {},
          "execution_count": 6
        }
      ]
    },
    {
      "cell_type": "code",
      "source": [
        "def binary_search(a, target):\n",
        "    start = 0\n",
        "    end = len(a)-1\n",
        "    \n",
        "    while start <= end:\n",
        "        mid = (start + end)//2\n",
        "        \n",
        "        print(f\"Start = {start}, End = {end}, Mid = {mid}\")\n",
        "        print(f\"List = {a[start:end+1]}\")\n",
        "        print(\"-\"*50)\n",
        "        \n",
        "        if a[mid] == target:\n",
        "            return mid\n",
        "        elif a[mid] > target:\n",
        "            end = mid - 1\n",
        "        else:\n",
        "            start = mid + 1\n",
        "            \n",
        "    return -1"
      ],
      "metadata": {
        "id": "mW9QyW1sylin"
      },
      "execution_count": 7,
      "outputs": []
    },
    {
      "cell_type": "code",
      "source": [
        "a=list(range(10))"
      ],
      "metadata": {
        "id": "-5TAhA7_ywsH"
      },
      "execution_count": 8,
      "outputs": []
    },
    {
      "cell_type": "code",
      "source": [
        "binary_search(a, 5)\n"
      ],
      "metadata": {
        "colab": {
          "base_uri": "https://localhost:8080/"
        },
        "id": "LfRdLr4qy2K3",
        "outputId": "583c4348-1483-445c-8dcc-d5727ebecb2e"
      },
      "execution_count": 11,
      "outputs": [
        {
          "output_type": "stream",
          "name": "stdout",
          "text": [
            "Start = 0, End = 9, Mid = 4\n",
            "List = [0, 1, 2, 3, 4, 5, 6, 7, 8, 9]\n",
            "--------------------------------------------------\n",
            "Start = 5, End = 9, Mid = 7\n",
            "List = [5, 6, 7, 8, 9]\n",
            "--------------------------------------------------\n",
            "Start = 5, End = 6, Mid = 5\n",
            "List = [5, 6]\n",
            "--------------------------------------------------\n"
          ]
        },
        {
          "output_type": "execute_result",
          "data": {
            "text/plain": [
              "5"
            ]
          },
          "metadata": {},
          "execution_count": 11
        }
      ]
    },
    {
      "cell_type": "code",
      "source": [],
      "metadata": {
        "id": "jpCZtPPUy6in"
      },
      "execution_count": null,
      "outputs": []
    }
  ]
}