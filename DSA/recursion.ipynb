{
  "nbformat": 4,
  "nbformat_minor": 0,
  "metadata": {
    "colab": {
      "provenance": [],
      "authorship_tag": "ABX9TyO+ZWYM+F0w9SKKgU0LGO6l",
      "include_colab_link": true
    },
    "kernelspec": {
      "name": "python3",
      "display_name": "Python 3"
    },
    "language_info": {
      "name": "python"
    }
  },
  "cells": [
    {
      "cell_type": "markdown",
      "metadata": {
        "id": "view-in-github",
        "colab_type": "text"
      },
      "source": [
        "<a href=\"https://colab.research.google.com/github/tony-kr/Scaler-Classes/blob/main/DSA/recursion.ipynb\" target=\"_parent\"><img src=\"https://colab.research.google.com/assets/colab-badge.svg\" alt=\"Open In Colab\"/></a>"
      ]
    },
    {
      "cell_type": "code",
      "execution_count": 1,
      "metadata": {
        "id": "UrjUz-Ws3cVt"
      },
      "outputs": [],
      "source": [
        "def factorial(n):\n",
        "    if n < 0:\n",
        "        return \"Factorial only defined on positive integers!\"\n",
        "    \n",
        "    if n == 1 or n == 0:\n",
        "        return 1\n",
        "    \n",
        "    result = factorial(n-1)\n",
        "    \n",
        "    return n * result"
      ]
    },
    {
      "cell_type": "code",
      "source": [
        "factorial(500)"
      ],
      "metadata": {
        "colab": {
          "base_uri": "https://localhost:8080/"
        },
        "id": "82glpSqL343C",
        "outputId": "434ce99e-4645-4a52-9adf-3f5bf4df4427"
      },
      "execution_count": 2,
      "outputs": [
        {
          "output_type": "execute_result",
          "data": {
            "text/plain": [
              "1220136825991110068701238785423046926253574342803192842192413588385845373153881997605496447502203281863013616477148203584163378722078177200480785205159329285477907571939330603772960859086270429174547882424912726344305670173270769461062802310452644218878789465754777149863494367781037644274033827365397471386477878495438489595537537990423241061271326984327745715546309977202781014561081188373709531016356324432987029563896628911658974769572087926928871281780070265174507768410719624390394322536422605234945850129918571501248706961568141625359056693423813008856249246891564126775654481886506593847951775360894005745238940335798476363944905313062323749066445048824665075946735862074637925184200459369692981022263971952597190945217823331756934581508552332820762820023402626907898342451712006207714640979456116127629145951237229913340169552363850942885592018727433795173014586357570828355780158735432768888680120399882384702151467605445407663535984174430480128938313896881639487469658817504506926365338175055478128640000000000000000000000000000000000000000000000000000000000000000000000000000000000000000000000000000000000000000000000000000"
            ]
          },
          "metadata": {},
          "execution_count": 2
        }
      ]
    },
    {
      "cell_type": "code",
      "source": [
        "def merge_sort(a):\n",
        "    # Base condition\n",
        "    if len(a) <= 1:\n",
        "        return a\n",
        "    \n",
        "    n = len(a)\n",
        "    \n",
        "    # Splitting Logic\n",
        "    left = merge_sort(a[:n//2])\n",
        "    right = merge_sort(a[n//2:])\n",
        "    \n",
        "    print(f\"left -> {left}\")\n",
        "    print(f\"right -> {right}\")\n",
        "    \n",
        "    # Merging Logic\n",
        "    i, j = 0, 0\n",
        "    result = []\n",
        "    \n",
        "    while i < len(left) and j < len(right):\n",
        "        if left[i] <= right[j]:\n",
        "            result.append(left[i])\n",
        "            i += 1\n",
        "        else:\n",
        "            result.append(right[j])\n",
        "            j += 1\n",
        "            \n",
        "    if i < len(left):\n",
        "        result += left[i:]\n",
        "    elif j < len(right):\n",
        "        result += right[j:]\n",
        "        \n",
        "    return result"
      ],
      "metadata": {
        "id": "liAV8cjg37Nc"
      },
      "execution_count": 3,
      "outputs": []
    },
    {
      "cell_type": "code",
      "source": [
        "a = [84,3,68,1,2,74,0,7,8,11]"
      ],
      "metadata": {
        "id": "ttiT1irQ4SGO"
      },
      "execution_count": 4,
      "outputs": []
    },
    {
      "cell_type": "code",
      "source": [
        "merge_sort(a)"
      ],
      "metadata": {
        "colab": {
          "base_uri": "https://localhost:8080/"
        },
        "id": "9mKucmva4eJ9",
        "outputId": "4b6ac41d-b667-4aa1-f68b-16c7cb22c7e6"
      },
      "execution_count": 5,
      "outputs": [
        {
          "output_type": "stream",
          "name": "stdout",
          "text": [
            "left -> [84]\n",
            "right -> [3]\n",
            "left -> [1]\n",
            "right -> [2]\n",
            "left -> [68]\n",
            "right -> [1, 2]\n",
            "left -> [3, 84]\n",
            "right -> [1, 2, 68]\n",
            "left -> [74]\n",
            "right -> [0]\n",
            "left -> [8]\n",
            "right -> [11]\n",
            "left -> [7]\n",
            "right -> [8, 11]\n",
            "left -> [0, 74]\n",
            "right -> [7, 8, 11]\n",
            "left -> [1, 2, 3, 68, 84]\n",
            "right -> [0, 7, 8, 11, 74]\n"
          ]
        },
        {
          "output_type": "execute_result",
          "data": {
            "text/plain": [
              "[0, 1, 2, 3, 7, 8, 11, 68, 74, 84]"
            ]
          },
          "metadata": {},
          "execution_count": 5
        }
      ]
    },
    {
      "cell_type": "code",
      "source": [
        "a = [1,2,3,4,5,6]"
      ],
      "metadata": {
        "id": "BrHm9SIW4gdN"
      },
      "execution_count": 6,
      "outputs": []
    },
    {
      "cell_type": "code",
      "source": [
        "def solve(a):\n",
        "    if len(a) == 1:\n",
        "        return a\n",
        "    \n",
        "    result = a[::2]\n",
        "    \n",
        "    return result + solve(a[1::2])"
      ],
      "metadata": {
        "id": "KjtPXY6E4pTX"
      },
      "execution_count": 7,
      "outputs": []
    },
    {
      "cell_type": "code",
      "source": [
        "solve(a)"
      ],
      "metadata": {
        "colab": {
          "base_uri": "https://localhost:8080/"
        },
        "id": "beilZJPc4rBf",
        "outputId": "91860456-fc7b-4abc-d1c2-72cbb23ac74e"
      },
      "execution_count": 8,
      "outputs": [
        {
          "output_type": "execute_result",
          "data": {
            "text/plain": [
              "[1, 3, 5, 2, 6, 4]"
            ]
          },
          "metadata": {},
          "execution_count": 8
        }
      ]
    },
    {
      "cell_type": "code",
      "source": [
        "arr = [(1,2),(2,3),(2,3),(1,2),(5,6)]"
      ],
      "metadata": {
        "id": "T5xSuPZP4sH6"
      },
      "execution_count": 9,
      "outputs": []
    },
    {
      "cell_type": "code",
      "source": [
        "[ (a,b) for i, [a,b] in enumerate(arr) if not any ((d==b and a==c) for c, d in arr[ :i])] "
      ],
      "metadata": {
        "colab": {
          "base_uri": "https://localhost:8080/"
        },
        "id": "Lq351OAg4wIH",
        "outputId": "ece3bc72-34b6-4ef4-885a-db8ce17a75b8"
      },
      "execution_count": 10,
      "outputs": [
        {
          "output_type": "execute_result",
          "data": {
            "text/plain": [
              "[(1, 2), (2, 3), (5, 6)]"
            ]
          },
          "metadata": {},
          "execution_count": 10
        }
      ]
    },
    {
      "cell_type": "code",
      "source": [],
      "metadata": {
        "id": "cIA9H5Ha4x1n"
      },
      "execution_count": null,
      "outputs": []
    }
  ]
}