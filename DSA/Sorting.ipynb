{
  "nbformat": 4,
  "nbformat_minor": 0,
  "metadata": {
    "colab": {
      "provenance": [],
      "authorship_tag": "ABX9TyN/o3o47ORtXL3LB7zCHSUX",
      "include_colab_link": true
    },
    "kernelspec": {
      "name": "python3",
      "display_name": "Python 3"
    },
    "language_info": {
      "name": "python"
    }
  },
  "cells": [
    {
      "cell_type": "markdown",
      "metadata": {
        "id": "view-in-github",
        "colab_type": "text"
      },
      "source": [
        "<a href=\"https://colab.research.google.com/github/tony-kr/Scaler-Classes/blob/main/DSA/Sorting.ipynb\" target=\"_parent\"><img src=\"https://colab.research.google.com/assets/colab-badge.svg\" alt=\"Open In Colab\"/></a>"
      ]
    },
    {
      "cell_type": "code",
      "execution_count": 1,
      "metadata": {
        "colab": {
          "base_uri": "https://localhost:8080/"
        },
        "id": "Aq2ChM6N1HHt",
        "outputId": "2b221ca9-77a2-4561-8600-e43e4186cd53"
      },
      "outputs": [
        {
          "output_type": "stream",
          "name": "stdout",
          "text": [
            "5 5 5 5 5 \n",
            "5 4 4 4 5 \n",
            "5 4 3 4 5 \n",
            "5 4 4 4 5 \n",
            "5 5 5 5 5 \n"
          ]
        }
      ],
      "source": [
        "## Homework question solution\n",
        "\n",
        "n = 5\n",
        "for i in range(n):\n",
        "    for j in range(n):\n",
        "        print(max(i, j, n-1-i, n-1-j)+1, end=\" \")\n",
        "    \n",
        "    print(end=\"\\n\")"
      ]
    },
    {
      "cell_type": "code",
      "source": [
        "def bubble_sort(a):\n",
        "    for i in range(len(a)):\n",
        "        for j in range(i, len(a)-1):\n",
        "            if a[j] > a[j+1]:\n",
        "                a[j], a[j+1] = a[j+1], a[j]\n",
        "                \n",
        "    return a"
      ],
      "metadata": {
        "id": "WT2sLUe91SZR"
      },
      "execution_count": 2,
      "outputs": []
    },
    {
      "cell_type": "code",
      "source": [
        "a = [5,8,45,1,3,9,2]"
      ],
      "metadata": {
        "id": "XZtX5D6y1cWH"
      },
      "execution_count": 3,
      "outputs": []
    },
    {
      "cell_type": "code",
      "source": [
        "bubble_sort(a)"
      ],
      "metadata": {
        "colab": {
          "base_uri": "https://localhost:8080/"
        },
        "id": "rEn9FiiX1jIP",
        "outputId": "3ddd5629-f573-407a-c7f7-3f50cb6f09ff"
      },
      "execution_count": 4,
      "outputs": [
        {
          "output_type": "execute_result",
          "data": {
            "text/plain": [
              "[5, 1, 3, 2, 8, 9, 45]"
            ]
          },
          "metadata": {},
          "execution_count": 4
        }
      ]
    },
    {
      "cell_type": "code",
      "source": [
        "def optimised_bubble_sort(a):\n",
        "    counter = 0\n",
        "    \n",
        "    for i in range(len(a)-1):\n",
        "        is_sorted = True\n",
        "        \n",
        "        for j in range(len(a)-i-1):\n",
        "            counter += 1\n",
        "            \n",
        "            if a[j] > a[j+1]:\n",
        "                a[j], a[j+1] = a[j+1], a[j]\n",
        "                is_sorted = False\n",
        "                \n",
        "        if is_sorted == True:\n",
        "            break\n",
        "                \n",
        "    print(counter)\n",
        "    return a"
      ],
      "metadata": {
        "id": "BYaMUZVT1mgv"
      },
      "execution_count": 5,
      "outputs": []
    },
    {
      "cell_type": "code",
      "source": [
        "optimised_bubble_sort(a)"
      ],
      "metadata": {
        "colab": {
          "base_uri": "https://localhost:8080/"
        },
        "id": "nWpUd2EO10ff",
        "outputId": "33c966ef-f4b1-4cd7-a6bc-0436577fc0a7"
      },
      "execution_count": 6,
      "outputs": [
        {
          "output_type": "stream",
          "name": "stdout",
          "text": [
            "15\n"
          ]
        },
        {
          "output_type": "execute_result",
          "data": {
            "text/plain": [
              "[1, 2, 3, 5, 8, 9, 45]"
            ]
          },
          "metadata": {},
          "execution_count": 6
        }
      ]
    },
    {
      "cell_type": "code",
      "source": [],
      "metadata": {
        "id": "C4lK4fQY110O"
      },
      "execution_count": null,
      "outputs": []
    }
  ]
}