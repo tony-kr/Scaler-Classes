{
  "nbformat": 4,
  "nbformat_minor": 0,
  "metadata": {
    "colab": {
      "provenance": [],
      "authorship_tag": "ABX9TyOYWljyQ/Bl4O5RaPC0vg1Z"
    },
    "kernelspec": {
      "name": "python3",
      "display_name": "Python 3"
    },
    "language_info": {
      "name": "python"
    }
  },
  "cells": [
    {
      "cell_type": "code",
      "execution_count": 1,
      "metadata": {
        "id": "DFAEfQXYT_6a",
        "colab": {
          "base_uri": "https://localhost:8080/"
        },
        "outputId": "906436d1-5514-4215-8d6c-c3f66aa6493f"
      },
      "outputs": [
        {
          "output_type": "stream",
          "name": "stdout",
          "text": [
            "Hello World!\n"
          ]
        }
      ],
      "source": [
        "print(\"Hello World!\")"
      ]
    },
    {
      "cell_type": "code",
      "source": [
        "a = 45"
      ],
      "metadata": {
        "id": "-P0deZyBbbo0"
      },
      "execution_count": 2,
      "outputs": []
    },
    {
      "cell_type": "code",
      "source": [
        "a = \"Its a string now\""
      ],
      "metadata": {
        "id": "6rjiVREvbdC7"
      },
      "execution_count": 3,
      "outputs": []
    },
    {
      "cell_type": "code",
      "source": [
        "a"
      ],
      "metadata": {
        "colab": {
          "base_uri": "https://localhost:8080/",
          "height": 35
        },
        "id": "DpiNuKCbbfhq",
        "outputId": "7b3ffd70-de7c-46f3-c3c5-a16c858c9079"
      },
      "execution_count": 4,
      "outputs": [
        {
          "output_type": "execute_result",
          "data": {
            "text/plain": [
              "'Its a string now'"
            ],
            "application/vnd.google.colaboratory.intrinsic+json": {
              "type": "string"
            }
          },
          "metadata": {},
          "execution_count": 4
        }
      ]
    },
    {
      "cell_type": "code",
      "source": [
        "# Everything in python is an object\n",
        "\n",
        "isinstance(print,object)"
      ],
      "metadata": {
        "colab": {
          "base_uri": "https://localhost:8080/"
        },
        "id": "dwj_PxHqcxXG",
        "outputId": "b7413800-4094-4a6d-97e6-935a1da0ae30"
      },
      "execution_count": 8,
      "outputs": [
        {
          "output_type": "execute_result",
          "data": {
            "text/plain": [
              "True"
            ]
          },
          "metadata": {},
          "execution_count": 8
        }
      ]
    },
    {
      "cell_type": "code",
      "source": [
        "isinstance(45,int)"
      ],
      "metadata": {
        "colab": {
          "base_uri": "https://localhost:8080/"
        },
        "id": "wbIUxHu8c6lr",
        "outputId": "c6118ac6-8cda-4fa6-a6ff-b1a93b7cc3cc"
      },
      "execution_count": 9,
      "outputs": [
        {
          "output_type": "execute_result",
          "data": {
            "text/plain": [
              "True"
            ]
          },
          "metadata": {},
          "execution_count": 9
        }
      ]
    },
    {
      "cell_type": "code",
      "source": [
        "isinstance(45,object)"
      ],
      "metadata": {
        "colab": {
          "base_uri": "https://localhost:8080/"
        },
        "id": "dP-A5vo6dDJn",
        "outputId": "271be974-9c06-4562-e763-0be65d9d042a"
      },
      "execution_count": 10,
      "outputs": [
        {
          "output_type": "execute_result",
          "data": {
            "text/plain": [
              "True"
            ]
          },
          "metadata": {},
          "execution_count": 10
        }
      ]
    },
    {
      "cell_type": "code",
      "source": [
        "# Mutable --> Lists, Sets, Dicts\n",
        "# Immutable --> everything else is immutable like tuples"
      ],
      "metadata": {
        "id": "4kF-g8gRbgDT"
      },
      "execution_count": 5,
      "outputs": []
    },
    {
      "cell_type": "code",
      "source": [
        "# Identifiers --> Start with alphabets or underscore\n",
        "\n",
        "# Underscore is a special identifier ---- > it can store the previous output"
      ],
      "metadata": {
        "id": "UUaEv6HkcAcD"
      },
      "execution_count": 6,
      "outputs": []
    },
    {
      "cell_type": "code",
      "source": [
        "_abc = 4578"
      ],
      "metadata": {
        "id": "0EVGk-cCdN6m"
      },
      "execution_count": 12,
      "outputs": []
    },
    {
      "cell_type": "code",
      "source": [
        "_ = 56"
      ],
      "metadata": {
        "id": "kt6HPFZhdZbz"
      },
      "execution_count": 14,
      "outputs": []
    },
    {
      "cell_type": "code",
      "source": [
        "_"
      ],
      "metadata": {
        "colab": {
          "base_uri": "https://localhost:8080/"
        },
        "id": "SYFK8IN3djXV",
        "outputId": "46766f44-3a72-44b1-ee6a-e5fbc110dbe4"
      },
      "execution_count": 15,
      "outputs": [
        {
          "output_type": "execute_result",
          "data": {
            "text/plain": [
              "56"
            ]
          },
          "metadata": {},
          "execution_count": 15
        }
      ]
    },
    {
      "cell_type": "code",
      "source": [
        "a = \"a\"\n",
        "\n",
        "b = \"a\"\n",
        "\n",
        "id(a) == id(b)"
      ],
      "metadata": {
        "colab": {
          "base_uri": "https://localhost:8080/"
        },
        "id": "udZLRBAQdt64",
        "outputId": "fcbbb74a-2cd1-4cd8-d3c7-ecdbc037739e"
      },
      "execution_count": 16,
      "outputs": [
        {
          "output_type": "execute_result",
          "data": {
            "text/plain": [
              "True"
            ]
          },
          "metadata": {},
          "execution_count": 16
        }
      ]
    },
    {
      "cell_type": "code",
      "source": [
        "c = 5\n",
        "\n",
        "d = 5.0\n",
        "\n",
        "id(c) == id(d)"
      ],
      "metadata": {
        "colab": {
          "base_uri": "https://localhost:8080/"
        },
        "id": "nc34D87NeALU",
        "outputId": "42f920db-faab-4b59-af6b-b0469bf5f5b3"
      },
      "execution_count": 18,
      "outputs": [
        {
          "output_type": "execute_result",
          "data": {
            "text/plain": [
              "False"
            ]
          },
          "metadata": {},
          "execution_count": 18
        }
      ]
    },
    {
      "cell_type": "code",
      "source": [
        "## Loops\n",
        "\n",
        "# While loops when we know the exit codes\n",
        "# For loop stops the iteration when \"Stop_iteration\" exception is thown"
      ],
      "metadata": {
        "id": "pZtG7M9ocSWi"
      },
      "execution_count": 7,
      "outputs": []
    },
    {
      "cell_type": "code",
      "source": [
        "a = 10\n",
        "\n",
        "if a > 10:\n",
        "    print(\"WOPPIEEEE!!\")\n",
        "elif a == 10:\n",
        "    print(\"MOMAAAAA!!\")\n",
        "else:\n",
        "    print(\"DADDDAAAA!!\")"
      ],
      "metadata": {
        "colab": {
          "base_uri": "https://localhost:8080/"
        },
        "id": "NHJXTPrzcl5b",
        "outputId": "f261bd5f-b75b-4b4a-a3ee-4c491f8f4665"
      },
      "execution_count": 17,
      "outputs": [
        {
          "output_type": "stream",
          "name": "stdout",
          "text": [
            "MOMAAAAA!!\n"
          ]
        }
      ]
    },
    {
      "cell_type": "code",
      "source": [],
      "metadata": {
        "id": "-4kDm7ngd7J0"
      },
      "execution_count": null,
      "outputs": []
    }
  ]
}